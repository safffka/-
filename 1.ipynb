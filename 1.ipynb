{
 "cells": [
  {
   "cell_type": "code",
   "execution_count": 6,
   "id": "12fa880d-b45f-44e8-b9b2-35b08c2b5a75",
   "metadata": {
    "tags": []
   },
   "outputs": [],
   "source": [
    "import json\n",
    "import csv\n",
    "import xml.etree.ElementTree as ET\n",
    "import numpy as np\n",
    "import matplotlib.pyplot as plt\n",
    "import scipy.stats as stats\n",
    "import pandas as pd"
   ]
  },
  {
   "cell_type": "code",
   "execution_count": 7,
   "id": "d6dbeca0-0710-4ceb-8c6c-70581e404d77",
   "metadata": {
    "tags": []
   },
   "outputs": [
    {
     "name": "stdout",
     "output_type": "stream",
     "text": [
      "     C1  C2  C3 C4   C5   C6    C7   C8   C9  C10  C11  C12  C13  C14  C15   \n",
      "0   173  39  70  0  160   66    36  173   39   70  180   42   62  173   56  \\\n",
      "1   164  38  47  0  181   70    42  164   38   47  187   44   90  172   67   \n",
      "2   170  38  53  0  172   71    41  170   38   53  173   41   63  172   65   \n",
      "3   180  42  62  1  160   46    35  160   37   49  186   44   80  159   59   \n",
      "4   187  44  90  1  168   53    38  160   36   54  195   46   90  167   49   \n",
      "5   173  41  63  1  166   63  38,5  168   38   49  178   43   80  165   52   \n",
      "6   186  44  80  1  158   54    36  170   39   59  180   42   70  160   52   \n",
      "7   160  37  49  0  195  105    46  160   37   55  175   39   60  187   87   \n",
      "8   160  36  54  0  167   70    37  177   39   68  182   42   70  168   55   \n",
      "9   168  38  49  0  180   75    44  168   39   57  190   43   80  178   68   \n",
      "10  195  46  90  1  170   53    37  160   37   50  187   43   67  193   70   \n",
      "11  178  43  80  1  169   52    36  165   36   50  173   43   73  171   67   \n",
      "12  180  42  70  1  162   46    40  173   37   52  180   43   74  160   59   \n",
      "13  175  39  60  1  160   49    35  162   37   47  188   44   80  163   56   \n",
      "14  170  39  59  0  164   52    37  163   37   58  182   45   74  162   47   \n",
      "15  160  37  55  0  162   50    37  169   38   55  182   43   65  159   45   \n",
      "16  177  39  68  0  171   60    40  NaN  NaN  NaN  178   43   70  NaN  NaN   \n",
      "17  182  42  70  1  190   83    45  NaN  NaN  NaN  174   41   60  NaN  NaN   \n",
      "18  190  43  80  1  185   80    44  NaN  NaN  NaN  175   40   60  NaN  NaN   \n",
      "19  187  43  67  1  176   80    42  NaN  NaN  NaN  178   42   64  NaN  NaN   \n",
      "20  173  43  73  1  NaN  NaN   NaN  NaN  NaN  NaN  171   44   66  NaN  NaN   \n",
      "21  180  43  74  1  NaN  NaN   NaN  NaN  NaN  NaN  175   42   70  NaN  NaN   \n",
      "22  188  44  80  1  NaN  NaN   NaN  NaN  NaN  NaN  172   41   62  NaN  NaN   \n",
      "23  168  39  57  0  NaN  NaN   NaN  NaN  NaN  NaN  185   43   78  NaN  NaN   \n",
      "24  160  37  50  0  NaN  NaN   NaN  NaN  NaN  NaN  NaN  NaN  NaN  NaN  NaN   \n",
      "25  182  45  74  1  NaN  NaN   NaN  NaN  NaN  NaN  NaN  NaN  NaN  NaN  NaN   \n",
      "26  182  43  65  1  NaN  NaN   NaN  NaN  NaN  NaN  NaN  NaN  NaN  NaN  NaN   \n",
      "27  165  36  50  0  NaN  NaN   NaN  NaN  NaN  NaN  NaN  NaN  NaN  NaN  NaN   \n",
      "28  178  43  70  1  NaN  NaN   NaN  NaN  NaN  NaN  NaN  NaN  NaN  NaN  NaN   \n",
      "29  174  41  60  1  NaN  NaN   NaN  NaN  NaN  NaN  NaN  NaN  NaN  NaN  NaN   \n",
      "30  175  40  60  1  NaN  NaN   NaN  NaN  NaN  NaN  NaN  NaN  NaN  NaN  NaN   \n",
      "31  178  42  64  1  NaN  NaN   NaN  NaN  NaN  NaN  NaN  NaN  NaN  NaN  NaN   \n",
      "32  171  44  66  1  NaN  NaN   NaN  NaN  NaN  NaN  NaN  NaN  NaN  NaN  NaN   \n",
      "33  173  37  52  0  NaN  NaN   NaN  NaN  NaN  NaN  NaN  NaN  NaN  NaN  NaN   \n",
      "34  162  37  47  0  NaN  NaN   NaN  NaN  NaN  NaN  NaN  NaN  NaN  NaN  NaN   \n",
      "35  175  42  70  1  NaN  NaN   NaN  NaN  NaN  NaN  NaN  NaN  NaN  NaN  NaN   \n",
      "36  172  41  62  1  NaN  NaN   NaN  NaN  NaN  NaN  NaN  NaN  NaN  NaN  NaN   \n",
      "37  163  37  58  0  NaN  NaN   NaN  NaN  NaN  NaN  NaN  NaN  NaN  NaN  NaN   \n",
      "38  169  38  55  0  NaN  NaN   NaN  NaN  NaN  NaN  NaN  NaN  NaN  NaN  NaN   \n",
      "39  185  43  78  1  NaN  NaN   NaN  NaN  NaN  NaN  NaN  NaN  NaN  NaN  NaN   \n",
      "\n",
      "    C16  \n",
      "0    38  \n",
      "1    39  \n",
      "2    40  \n",
      "3    37  \n",
      "4    37  \n",
      "5    38  \n",
      "6    37  \n",
      "7    43  \n",
      "8    36  \n",
      "9    40  \n",
      "10   44  \n",
      "11   40  \n",
      "12   36  \n",
      "13   37  \n",
      "14   36  \n",
      "15   36  \n",
      "16  NaN  \n",
      "17  NaN  \n",
      "18  NaN  \n",
      "19  NaN  \n",
      "20  NaN  \n",
      "21  NaN  \n",
      "22  NaN  \n",
      "23  NaN  \n",
      "24  NaN  \n",
      "25  NaN  \n",
      "26  NaN  \n",
      "27  NaN  \n",
      "28  NaN  \n",
      "29  NaN  \n",
      "30  NaN  \n",
      "31  NaN  \n",
      "32  NaN  \n",
      "33  NaN  \n",
      "34  NaN  \n",
      "35  NaN  \n",
      "36  NaN  \n",
      "37  NaN  \n",
      "38  NaN  \n",
      "39  NaN  \n"
     ]
    }
   ],
   "source": [
    "file_path = 'rost_razmer.sgd'\n",
    "\n",
    "# Read the Statgraphics file content as a string\n",
    "with open(file_path, 'r', encoding='utf-8') as file:\n",
    "    xml_data = file.read()\n",
    "\n",
    "# Parse the XML data\n",
    "root = ET.fromstring(xml_data)\n",
    "\n",
    "# Create an empty list to store rows of data\n",
    "data = []\n",
    "\n",
    "# Loop through the ROW elements and extract data\n",
    "for row in root.findall('.//ROW'):\n",
    "    row_data = {}\n",
    "    for elem in row:\n",
    "        row_data[elem.tag] = elem.text\n",
    "    data.append(row_data)\n",
    "\n",
    "# Create a DataFrame from the extracted data\n",
    "df = pd.DataFrame(data)\n",
    "\n",
    "# Display the DataFrame\n",
    "print(df)"
   ]
  },
  {
   "cell_type": "code",
   "execution_count": 8,
   "id": "67a25444-0729-4c27-bf85-a8d0e4f779f7",
   "metadata": {
    "tags": []
   },
   "outputs": [],
   "source": [
    "new_column_names = ['rost', 'obuv', 'ves', 'pol','rostNov','vesNov','ObuvNov','Rodev','ObDev','vesDev','RostM','ObuvM','vesM','RostIst','VesIst','ObuvIst']\n",
    "df.columns = new_column_names"
   ]
  },
  {
   "cell_type": "code",
   "execution_count": 9,
   "id": "089a2b7d-3d2b-41bc-b422-4d32996f39b1",
   "metadata": {
    "tags": []
   },
   "outputs": [],
   "source": [
    "df['rost']=df['rost'].astype(float)\n",
    "df['obuv']=df['obuv'].astype(float)\n",
    "df['ves']=df['ves'].astype(float)\n",
    "df['pol']= df['pol'].astype(int)"
   ]
  },
  {
   "cell_type": "code",
   "execution_count": 10,
   "id": "a5e6898a-f487-4629-bc17-338979734f9d",
   "metadata": {
    "tags": []
   },
   "outputs": [
    {
     "data": {
      "text/plain": [
       "0     173.0\n",
       "1     164.0\n",
       "2     170.0\n",
       "3     180.0\n",
       "4     187.0\n",
       "5     173.0\n",
       "6     186.0\n",
       "7     160.0\n",
       "8     160.0\n",
       "9     168.0\n",
       "10    195.0\n",
       "11    178.0\n",
       "12    180.0\n",
       "13    175.0\n",
       "14    170.0\n",
       "15    160.0\n",
       "16    177.0\n",
       "17    182.0\n",
       "18    190.0\n",
       "19    187.0\n",
       "20    173.0\n",
       "21    180.0\n",
       "22    188.0\n",
       "23    168.0\n",
       "24    160.0\n",
       "25    182.0\n",
       "26    182.0\n",
       "27    165.0\n",
       "28    178.0\n",
       "29    174.0\n",
       "30    175.0\n",
       "31    178.0\n",
       "32    171.0\n",
       "33    173.0\n",
       "34    162.0\n",
       "35    175.0\n",
       "36    172.0\n",
       "37    163.0\n",
       "38    169.0\n",
       "39    185.0\n",
       "Name: rost, dtype: float64"
      ]
     },
     "execution_count": 10,
     "metadata": {},
     "output_type": "execute_result"
    }
   ],
   "source": [
    "#Просмотреть выборку Rost на экране\n",
    "df['rost']"
   ]
  },
  {
   "cell_type": "code",
   "execution_count": 11,
   "id": "161f926d-7787-4a73-9bb8-52f7bc2a1ec5",
   "metadata": {
    "tags": []
   },
   "outputs": [
    {
     "name": "stdout",
     "output_type": "stream",
     "text": [
      "count     40.00000\n",
      "mean     174.70000\n",
      "std        9.07575\n",
      "min      160.00000\n",
      "25%      168.75000\n",
      "50%      174.50000\n",
      "75%      180.50000\n",
      "max      195.00000\n",
      "Name: rost, dtype: float64\n"
     ]
    }
   ],
   "source": [
    "print(df['rost'].describe())"
   ]
  },
  {
   "cell_type": "code",
   "execution_count": 12,
   "id": "013cb2f6-018d-4910-857e-318c36244615",
   "metadata": {
    "tags": []
   },
   "outputs": [
    {
     "name": "stdout",
     "output_type": "stream",
     "text": [
      "Количество интервалов по правилу Скотта: 9\n"
     ]
    }
   ],
   "source": [
    "# Вычислить стандартное отклонение\n",
    "std_deviation = np.std(df['rost'])\n",
    "\n",
    "# Вычислить количество наблюдений\n",
    "num_observations = len(df['rost'])\n",
    "\n",
    "# Вычислить количество интервалов с использованием правила Скотта\n",
    "num_bins_scott = int(3.5 * std_deviation / (num_observations ** (1/3)))\n",
    "\n",
    "print(f\"Количество интервалов по правилу Скотта: {num_bins_scott}\")"
   ]
  },
  {
   "cell_type": "code",
   "execution_count": 13,
   "id": "a47a0233-fb2a-430e-9da5-f4cf54158a27",
   "metadata": {
    "tags": []
   },
   "outputs": [
    {
     "name": "stdout",
     "output_type": "stream",
     "text": [
      "               Интервал  Частота  Относительная частота  Накопленная частота   \n",
      "Интервал                                                                       \n",
      "Интервал 1  160.0-163.9        6                  0.150                    6  \\\n",
      "Интервал 2  163.9-167.8        2                  0.050                    8   \n",
      "Интервал 3  167.8-171.7        6                  0.150                   14   \n",
      "Интервал 4  171.7-175.6        9                  0.225                   23   \n",
      "Интервал 5  175.6-179.4        4                  0.100                   27   \n",
      "Интервал 6  179.4-183.3        6                  0.150                   33   \n",
      "Интервал 7  183.3-187.2        4                  0.100                   37   \n",
      "Интервал 8  187.2-191.1        2                  0.050                   39   \n",
      "Интервал 9  191.1-195.0        1                  0.025                   40   \n",
      "\n",
      "            Относительная накопленная частота  \n",
      "Интервал                                       \n",
      "Интервал 1                              0.150  \n",
      "Интервал 2                              0.200  \n",
      "Интервал 3                              0.350  \n",
      "Интервал 4                              0.575  \n",
      "Интервал 5                              0.675  \n",
      "Интервал 6                              0.825  \n",
      "Интервал 7                              0.925  \n",
      "Интервал 8                              0.975  \n",
      "Интервал 9                              1.000  \n"
     ]
    }
   ],
   "source": [
    "num_bins = 9\n",
    "bin_width = (df[\"rost\"].max() - df[\"rost\"].min()) / num_bins\n",
    "\n",
    "# Создание границ интервалов\n",
    "bin_edges = [df[\"rost\"].min() + i * bin_width for i in range(num_bins + 1)]\n",
    "\n",
    "# Создание интервалов и меток\n",
    "intervals = [f\"{bin_edges[i]:.1f}-{bin_edges[i+1]:.1f}\" for i in range(num_bins)]\n",
    "labels = [f\"Интервал {i+1}\" for i in range(num_bins)]\n",
    "\n",
    "# Группировка данных по интервалам с помощью функции cut\n",
    "df[\"Интервал\"] = pd.cut(df[\"rost\"], bins=bin_edges, labels=labels, include_lowest=True)\n",
    "\n",
    "# Вычисление частоты данных в каждом интервале\n",
    "частоты_интервалов = df[\"Интервал\"].value_counts().sort_index()\n",
    "\n",
    "# Вычисление относительных частот (пропорций)\n",
    "относительные_частоты = частоты_интервалов / len(df)\n",
    "\n",
    "# Вычисление накопленных частот и относительных накопленных частот\n",
    "накопленные_частоты = частоты_интервалов.cumsum()\n",
    "относительные_накопленные_частоты = накопленные_частоты / len(df)\n",
    "\n",
    "# Создание DataFrame для отображения результатов\n",
    "результат_df = pd.DataFrame({\n",
    "    \"Интервал\": intervals,\n",
    "    \"Частота\": частоты_интервалов,\n",
    "    \"Относительная частота\": относительные_частоты,\n",
    "    \"Накопленная частота\": накопленные_частоты,\n",
    "    \"Относительная накопленная частота\": относительные_накопленные_частоты,\n",
    "})\n",
    "\n",
    "print(результат_df)"
   ]
  },
  {
   "cell_type": "code",
   "execution_count": 14,
   "id": "b8d37969-e867-48f5-a9c9-cf769b150100",
   "metadata": {
    "tags": []
   },
   "outputs": [
    {
     "data": {
      "image/png": "[encoded data removed]",
      "text/plain": [
       "<Figure size 1000x500 with 1 Axes>"
      ]
     },
     "metadata": {},
     "output_type": "display_data"
    },
    {
     "data": {
      "image/png": "[encoded data removed]",
      "text/plain": [
       "<Figure size 1000x500 with 1 Axes>"
      ]
     },
     "metadata": {},
     "output_type": "display_data"
    },
    {
     "data": {
      "image/png": "[encoded data removed]",
      "text/plain": [
       "<Figure size 1000x500 with 1 Axes>"
      ]
     },
     "metadata": {},
     "output_type": "display_data"
    }
   ],
   "source": [
    "# Построение гистограммы\n",
    "plt.figure(figsize=(10, 5))\n",
    "plt.bar(результат_df[\"Интервал\"], результат_df[\"Частота\"], width=0.4, alpha=0.7, label=\"Гистограмма\")\n",
    "plt.xlabel(\"Интервалы\")\n",
    "plt.ylabel(\"Частота\")\n",
    "plt.legend()\n",
    "\n",
    "# Построение полигона\n",
    "plt.figure(figsize=(10, 5))\n",
    "plt.plot(результат_df[\"Интервал\"], результат_df[\"Частота\"], marker='o', linestyle='-', color='b', label=\"Полигон\")\n",
    "plt.xlabel(\"Интервалы\")\n",
    "plt.ylabel(\"Частота\")\n",
    "plt.legend()\n",
    "\n",
    "# Построение кумулятивной частоты\n",
    "plt.figure(figsize=(10, 5))\n",
    "plt.plot(результат_df[\"Интервал\"], результат_df[\"Накопленная частота\"], marker='o', linestyle='-', color='g', label=\"Кумулятивная частота\")\n",
    "plt.xlabel(\"Интервалы\")\n",
    "plt.ylabel(\"Кумулятивная частота\")\n",
    "plt.legend()\n",
    "\n",
    "# Отображение графиков\n",
    "plt.show()"
   ]
  },
  {
   "cell_type": "markdown",
   "id": "6fe28d2a-9f50-4f73-a3ed-c15e6ae58149",
   "metadata": {},
   "source": [
    "глядя на гистограмму, нельзя сказать что рост имеет нормальное распределение"
   ]
  },
  {
   "cell_type": "code",
   "execution_count": 15,
   "id": "95caa14b-1cc2-48a6-946f-d4d85528619d",
   "metadata": {
    "tags": []
   },
   "outputs": [
    {
     "data": {
      "image/png": "[encoded data removed]",
      "text/plain": [
       "<Figure size 640x480 with 1 Axes>"
      ]
     },
     "metadata": {},
     "output_type": "display_data"
    }
   ],
   "source": [
    "plt.hist(df['ves'], bins=5, edgecolor='black')  \n",
    "plt.xlabel('Вес')\n",
    "plt.ylabel('Частота')\n",
    "plt.title('Гистограмма Веса')\n",
    "plt.show()"
   ]
  },
  {
   "cell_type": "code",
   "execution_count": 16,
   "id": "ad1e976c-4af0-4872-b659-89a68ccf4b3a",
   "metadata": {
    "tags": []
   },
   "outputs": [
    {
     "data": {
      "image/png": "[encoded data removed]",
      "text/plain": [
       "<Figure size 640x480 with 1 Axes>"
      ]
     },
     "metadata": {},
     "output_type": "display_data"
    }
   ],
   "source": [
    "plt.hist(df['obuv'], bins=5, edgecolor='black')  \n",
    "plt.xlabel('размер обуви')\n",
    "plt.ylabel('Частота')\n",
    "plt.title('Гистограмма размера обуви')\n",
    "plt.show()"
   ]
  },
  {
   "cell_type": "markdown",
   "id": "89eecfba-d59a-413b-9ee9-d10ab33f733a",
   "metadata": {},
   "source": [
    "судя по гистограммам данные не являются нормальными, возможное решение проблемы, увеличить выборку данных. Учитывая пол, можно построить отдельные гистограммы, что приведет вид к более нормальному"
   ]
  },
  {
   "cell_type": "code",
   "execution_count": 17,
   "id": "3d8aa585-bd54-4f44-87b3-61ea0ef4e5e3",
   "metadata": {
    "tags": []
   },
   "outputs": [
    {
     "name": "stdout",
     "output_type": "stream",
     "text": [
      "Среднее: 174.7\n",
      "Мода: 160.0\n",
      "Медиана: 174.5\n",
      "Размах: 35.0\n",
      "Дисперсия: 82.36923076923078\n",
      "Стандартное отклонение: 9.075749598200183\n",
      "Стандартная асимметрия: 0.09792473140494128\n",
      "Стандартный эксцесс: -0.5989260960422853\n"
     ]
    }
   ],
   "source": [
    "\n",
    "series = pd.Series(df['rost'])\n",
    "\n",
    "# Вычисление среднего\n",
    "среднее = series.mean()\n",
    "\n",
    "# Вычисление моды\n",
    "мода = series.mode().values[0]\n",
    "\n",
    "# Вычисление медианы\n",
    "медиана = series.median()\n",
    "\n",
    "# Вычисление размаха\n",
    "размах = series.max() - series.min()\n",
    "\n",
    "# Вычисление дисперсии\n",
    "дисперсия = series.var()\n",
    "\n",
    "# Вычисление стандартного отклонения\n",
    "стандартное_отклонение = series.std()\n",
    "\n",
    "# Вычисление асимметрии\n",
    "асимметрия = series.skew()\n",
    "\n",
    "# Вычисление эксцесса\n",
    "эксцесс = series.kurtosis()\n",
    "\n",
    "print(\"Среднее:\", среднее)\n",
    "print(\"Мода:\", мода)\n",
    "print(\"Медиана:\", медиана)\n",
    "print(\"Размах:\", размах)\n",
    "print(\"Дисперсия:\", дисперсия)\n",
    "print(\"Стандартное отклонение:\", стандартное_отклонение)\n",
    "print(\"Стандартная асимметрия:\", асимметрия)\n",
    "print(\"Стандартный эксцесс:\", эксцесс)\n"
   ]
  },
  {
   "cell_type": "markdown",
   "id": "27623495-a84d-4ffe-b440-c3d164f6e734",
   "metadata": {},
   "source": [
    "Для нормального распределения асимметрия должна быть близка к нулю, а эксцесс близок к 3 (для нормального распределения с нулевым среднеквадратичным отклонением). Это свойства нормального распределения, где среднее, мода и медиана совпадают, размах равен бесконечности, дисперсия и стандартное отклонение конечны и асимметрия и эксцесс равны 0 и 3 соответственно."
   ]
  },
  {
   "cell_type": "code",
   "execution_count": 18,
   "id": "45fe6881-fb95-4075-a325-7581f8d88d3a",
   "metadata": {
    "tags": []
   },
   "outputs": [
    {
     "name": "stdout",
     "output_type": "stream",
     "text": [
      "Среднее: 40.625\n",
      "Мода: 43.0\n",
      "Медиана: 41.0\n",
      "Размах: 10.0\n",
      "Дисперсия: 7.983974358974359\n",
      "Стандартное отклонение: 2.8255927447129316\n",
      "Стандартная асимметрия: -0.0772811517154184\n",
      "Стандартный эксцесс: -1.2894824361580652\n",
      "------------------\n",
      "Среднее ves: 64.525\n",
      "Мода ves: 70.0\n",
      "Медиана ves : 63.5\n",
      "Размах ves : 43.0\n",
      "Дисперсия ves: 132.4608974358974\n",
      "Стандартное отклонение ves: 11.509165801042984\n",
      "Стандартная асимметрия ves: 0.38193265367835066\n",
      "Стандартный эксцесс ves: -0.5132623667337866\n"
     ]
    }
   ],
   "source": [
    "series = pd.Series(df['obuv'])\n",
    "series1 = pd.Series(df['ves'])\n",
    "# Вычисление среднего\n",
    "среднее = series.mean()\n",
    "среднее_ves = series1.mean()\n",
    "# Вычисление моды\n",
    "мода = series.mode().values[0]\n",
    "мода_ves = series1.mode().values[0]\n",
    "# Вычисление медианы\n",
    "медиана = series.median()\n",
    "медиана_ves = series1.median()\n",
    "# Вычисление размаха\n",
    "размах = series.max() - series.min()\n",
    "размах_ves = series1.max() - series1.min()\n",
    "# Вычисление дисперсии\n",
    "дисперсия = series.var()\n",
    "дисперсия_ves = series1.var()\n",
    "# Вычисление стандартного отклонения\n",
    "стандартное_отклонение = series.std()\n",
    "стандартное_отклонение_ves = series1.std()\n",
    "# Вычисление асимметрии\n",
    "асимметрия = series.skew()\n",
    "асимметрия_ves = series1.skew()\n",
    "# Вычисление эксцесса\n",
    "эксцесс = series.kurtosis()\n",
    "эксцесс_ves = series1.kurtosis()\n",
    "print(\"Среднее:\",среднее)\n",
    "print(\"Мода:\",мода)\n",
    "print(\"Медиана:\", медиана)\n",
    "print(\"Размах:\", размах)\n",
    "print(\"Дисперсия:\", дисперсия)\n",
    "print(\"Стандартное отклонение:\", стандартное_отклонение)\n",
    "print(\"Стандартная асимметрия:\", асимметрия)\n",
    "print(\"Стандартный эксцесс:\", эксцесс)\n",
    "print('------------------')\n",
    "print(\"Среднее ves:\", среднее_ves)\n",
    "print(\"Мода ves:\", мода_ves)\n",
    "print(\"Медиана ves :\", медиана_ves)\n",
    "print(\"Размах ves :\", размах_ves)\n",
    "print(\"Дисперсия ves:\", дисперсия_ves)\n",
    "print(\"Стандартное отклонение ves:\", стандартное_отклонение_ves)\n",
    "print(\"Стандартная асимметрия ves:\", асимметрия_ves)\n",
    "print(\"Стандартный эксцесс ves:\", эксцесс_ves)\n",
    "\n"
   ]
  },
  {
   "cell_type": "markdown",
   "id": "625191e6-aa94-4bc3-a7df-1a2adb34706b",
   "metadata": {},
   "source": [
    "Наибольший разброс наблюдается в весе\n"
   ]
  },
  {
   "cell_type": "code",
   "execution_count": 19,
   "id": "db377545-bb3a-4539-a868-0eb4631850b5",
   "metadata": {
    "tags": []
   },
   "outputs": [],
   "source": [
    "df_boys=df[df['pol']==1].iloc[:, :3]\n",
    "df_girls=df[df['pol']==0].iloc[:, :3]"
   ]
  },
  {
   "cell_type": "code",
   "execution_count": 20,
   "id": "f78a5929-7bbf-4f4a-b698-35bca5062655",
   "metadata": {
    "tags": []
   },
   "outputs": [
    {
     "name": "stdout",
     "output_type": "stream",
     "text": [
      "Stored 'df_boys' (DataFrame)\n",
      "Stored 'df_girls' (DataFrame)\n"
     ]
    }
   ],
   "source": [
    "%store df_boys\n",
    "%store df_girls"
   ]
  },
  {
   "cell_type": "code",
   "execution_count": 48,
   "id": "8aa9d75e-69f1-4488-ae42-912d78deaad0",
   "metadata": {
    "tags": []
   },
   "outputs": [
    {
     "data": {
      "image/png": "[encoded data removed]",
      "text/plain": [
       "<Figure size 640x480 with 1 Axes>"
      ]
     },
     "metadata": {},
     "output_type": "display_data"
    },
    {
     "data": {
      "image/png": "[encoded data removed]",
      "text/plain": [
       "<Figure size 640x480 with 1 Axes>"
      ]
     },
     "metadata": {},
     "output_type": "display_data"
    }
   ],
   "source": [
    "plt.hist(df_boys['obuv'], bins=5, edgecolor='black')  \n",
    "plt.xlabel('размер обуви')\n",
    "plt.ylabel('Частота')\n",
    "plt.title('Гистограмма размера обуви мальчиков')\n",
    "plt.show()\n",
    "\n",
    "plt.hist(df_boys['ves'], bins=5, edgecolor='black')  \n",
    "plt.xlabel('Вес')\n",
    "plt.ylabel('Частота')\n",
    "plt.title('Гистограмма Веса мальчиков')\n",
    "plt.show()\n"
   ]
  },
  {
   "cell_type": "code",
   "execution_count": 49,
   "id": "22eea5d0-d4d2-420e-86c6-1cc6452a0078",
   "metadata": {
    "tags": []
   },
   "outputs": [
    {
     "data": {
      "image/png": "[encoded data removed]",
      "text/plain": [
       "<Figure size 640x480 with 1 Axes>"
      ]
     },
     "metadata": {},
     "output_type": "display_data"
    },
    {
     "data": {
      "image/png": "[encoded data removed]",
      "text/plain": [
       "<Figure size 640x480 with 1 Axes>"
      ]
     },
     "metadata": {},
     "output_type": "display_data"
    }
   ],
   "source": [
    "plt.hist(df_girls['obuv'], bins=5, edgecolor='black')  \n",
    "plt.xlabel('размер обуви')\n",
    "plt.ylabel('Частота')\n",
    "plt.title('Гистограмма размера обуви девочек')\n",
    "plt.show()\n",
    "\n",
    "plt.hist(df_girls['ves'], bins=5, edgecolor='black')  \n",
    "plt.xlabel('Вес')\n",
    "plt.ylabel('Частота')\n",
    "plt.title('Гистограмма Веса девочек')\n",
    "plt.show()\n"
   ]
  },
  {
   "cell_type": "code",
   "execution_count": 50,
   "id": "3d650bb6-d93e-48b8-9f72-65200fdc3065",
   "metadata": {
    "tags": []
   },
   "outputs": [
    {
     "name": "stdout",
     "output_type": "stream",
     "text": [
      "Boys\n",
      "Среднее: 180.25\n",
      "Мода: 175.0\n",
      "Медиана: 180.0\n",
      "Размах: 24.0\n",
      "Дисперсия: 40.19565217391305\n",
      "Стандартное отклонение: 6.340004114660577\n",
      "Стандартная асимметрия: 0.5029416834945422\n",
      "Стандартный эксцесс: -0.39035463929279013\n"
     ]
    }
   ],
   "source": [
    "\n",
    "series = pd.Series(df_boys['rost'])\n",
    "\n",
    "# Вычисление среднего\n",
    "среднее = series.mean()\n",
    "\n",
    "# Вычисление моды\n",
    "мода = series.mode().values[0]\n",
    "\n",
    "# Вычисление медианы\n",
    "медиана = series.median()\n",
    "\n",
    "# Вычисление размаха\n",
    "размах = series.max() - series.min()\n",
    "\n",
    "# Вычисление дисперсии\n",
    "дисперсия = series.var()\n",
    "\n",
    "# Вычисление стандартного отклонения\n",
    "стандартное_отклонение = series.std()\n",
    "\n",
    "# Вычисление асимметрии\n",
    "асимметрия = series.skew()\n",
    "\n",
    "# Вычисление эксцесса\n",
    "эксцесс = series.kurtosis()\n",
    "print('Boys')\n",
    "print(\"Среднее:\", среднее)\n",
    "print(\"Мода:\", мода)\n",
    "print(\"Медиана:\", медиана)\n",
    "print(\"Размах:\", размах)\n",
    "print(\"Дисперсия:\", дисперсия)\n",
    "print(\"Стандартное отклонение:\", стандартное_отклонение)\n",
    "print(\"Стандартная асимметрия:\", асимметрия)\n",
    "print(\"Стандартный эксцесс:\", эксцесс)\n"
   ]
  },
  {
   "cell_type": "code",
   "execution_count": 1,
   "id": "ec9fb1a1-cf12-41fe-9959-b4e99eea2efa",
   "metadata": {
    "tags": []
   },
   "outputs": [
    {
     "ename": "NameError",
     "evalue": "name 'pd' is not defined",
     "output_type": "error",
     "traceback": [
      "\u001b[0;31m---------------------------------------------------------------------------\u001b[0m",
      "\u001b[0;31mNameError\u001b[0m                                 Traceback (most recent call last)",
      "Cell \u001b[0;32mIn[1], line 1\u001b[0m\n\u001b[0;32m----> 1\u001b[0m series \u001b[38;5;241m=\u001b[39m \u001b[43mpd\u001b[49m\u001b[38;5;241m.\u001b[39mSeries(df_boys[\u001b[38;5;124m'\u001b[39m\u001b[38;5;124mobuv\u001b[39m\u001b[38;5;124m'\u001b[39m])\n\u001b[1;32m      2\u001b[0m series1 \u001b[38;5;241m=\u001b[39m pd\u001b[38;5;241m.\u001b[39mSeries(df_boys[\u001b[38;5;124m'\u001b[39m\u001b[38;5;124mves\u001b[39m\u001b[38;5;124m'\u001b[39m])\n\u001b[1;32m      3\u001b[0m \u001b[38;5;66;03m# Вычисление среднего\u001b[39;00m\n",
      "\u001b[0;31mNameError\u001b[0m: name 'pd' is not defined"
     ]
    }
   ],
   "source": [
    "series = pd.Series(df_boys['obuv'])\n",
    "series1 = pd.Series(df_boys['ves'])\n",
    "# Вычисление среднего\n",
    "среднее = series.mean()\n",
    "среднее_ves = series1.mean()\n",
    "# Вычисление моды\n",
    "мода = series.mode().values[0]\n",
    "мода_ves = series1.mode().values[0]\n",
    "# Вычисление медианы\n",
    "медиана = series.median()\n",
    "медиана_ves = series1.median()\n",
    "# Вычисление размаха\n",
    "размах = series.max() - series.min()\n",
    "размах_ves = series1.max() - series1.min()\n",
    "# Вычисление дисперсии\n",
    "дисперсия = series.var()\n",
    "дисперсия_ves = series1.var()\n",
    "# Вычисление стандартного отклонения\n",
    "стандартное_отклонение = series.std()\n",
    "стандартное_отклонение_ves = series1.std()\n",
    "# Вычисление асимметрии\n",
    "асимметрия = series.skew()\n",
    "асимметрия_ves = series1.skew()\n",
    "# Вычисление эксцесса\n",
    "эксцесс = series.kurtosis()\n",
    "эксцесс_ves = series1.kurtosis()\n",
    "print('boys')\n",
    "print(\"Среднее:\",среднее)\n",
    "print(\"Мода:\",мода)\n",
    "print(\"Медиана:\", медиана)\n",
    "print(\"Размах:\", размах)\n",
    "print(\"Дисперсия:\", дисперсия)\n",
    "print(\"Стандартное отклонение:\", стандартное_отклонение)\n",
    "print(\"Стандартная асимметрия:\", асимметрия)\n",
    "print(\"Стандартный эксцесс:\", эксцесс)\n",
    "print('------------------')\n",
    "print(\"Среднее ves:\", среднее_ves)\n",
    "print(\"Мода ves:\", мода_ves)\n",
    "print(\"Медиана ves :\", медиана_ves)\n",
    "print(\"Размах ves :\", размах_ves)\n",
    "print(\"Дисперсия ves:\", дисперсия_ves)\n",
    "print(\"Стандартное отклонение ves:\", стандартное_отклонение_ves)\n",
    "print(\"Стандартная асимметрия ves:\", асимметрия_ves)\n",
    "print(\"Стандартный эксцесс ves:\", эксцесс_ves)\n",
    "\n"
   ]
  },
  {
   "cell_type": "code",
   "execution_count": 52,
   "id": "9424d21c-bd7d-472b-a63d-22005f6c3a32",
   "metadata": {
    "tags": []
   },
   "outputs": [
    {
     "name": "stdout",
     "output_type": "stream",
     "text": [
      "Girls\n",
      "Среднее: 166.375\n",
      "Мода: 160.0\n",
      "Медиана: 166.5\n",
      "Размах: 17.0\n",
      "Дисперсия: 29.316666666666666\n",
      "Стандартное отклонение: 5.414486740833952\n",
      "Стандартная асимметрия: 0.34963999029715886\n",
      "Стандартный эксцесс: -0.9101313830440185\n"
     ]
    }
   ],
   "source": [
    "\n",
    "series = pd.Series(df_girls['rost'])\n",
    "\n",
    "# Вычисление среднего\n",
    "среднее = series.mean()\n",
    "\n",
    "# Вычисление моды\n",
    "мода = series.mode().values[0]\n",
    "\n",
    "# Вычисление медианы\n",
    "медиана = series.median()\n",
    "\n",
    "# Вычисление размаха\n",
    "размах = series.max() - series.min()\n",
    "\n",
    "# Вычисление дисперсии\n",
    "дисперсия = series.var()\n",
    "\n",
    "# Вычисление стандартного отклонения\n",
    "стандартное_отклонение = series.std()\n",
    "\n",
    "# Вычисление асимметрии\n",
    "асимметрия = series.skew()\n",
    "\n",
    "# Вычисление эксцесса\n",
    "эксцесс = series.kurtosis()\n",
    "print('Girls')\n",
    "print(\"Среднее:\", среднее)\n",
    "print(\"Мода:\", мода)\n",
    "print(\"Медиана:\", медиана)\n",
    "print(\"Размах:\", размах)\n",
    "print(\"Дисперсия:\", дисперсия)\n",
    "print(\"Стандартное отклонение:\", стандартное_отклонение)\n",
    "print(\"Стандартная асимметрия:\", асимметрия)\n",
    "print(\"Стандартный эксцесс:\", эксцесс)\n"
   ]
  },
  {
   "cell_type": "code",
   "execution_count": 53,
   "id": "fca81e17-588e-4e9c-b402-47e2c8e37d1b",
   "metadata": {
    "tags": []
   },
   "outputs": [
    {
     "name": "stdout",
     "output_type": "stream",
     "text": [
      "Girls\n",
      "Среднее: 37.625\n",
      "Мода: 37.0\n",
      "Медиана: 37.5\n",
      "Размах: 3.0\n",
      "Дисперсия: 1.05\n",
      "Стандартное отклонение: 1.02469507659596\n",
      "Стандартная асимметрия: 0.03983265603871564\n",
      "Стандартный эксцесс: -1.0665071889561686\n",
      "------------------\n",
      "Среднее ves: 54.5625\n",
      "Мода ves: 47.0\n",
      "Медиана ves : 53.5\n",
      "Размах ves : 23.0\n",
      "Дисперсия ves: 45.59583333333333\n",
      "Стандартное отклонение ves: 6.7524686843652475\n",
      "Стандартная асимметрия ves: 1.1947606647594446\n",
      "Стандартный эксцесс ves: 1.0517214706184612\n"
     ]
    }
   ],
   "source": [
    "series = pd.Series(df_girls['obuv'])\n",
    "series1 = pd.Series(df_girls['ves'])\n",
    "# Вычисление среднего\n",
    "среднее = series.mean()\n",
    "среднее_ves = series1.mean()\n",
    "# Вычисление моды\n",
    "мода = series.mode().values[0]\n",
    "мода_ves = series1.mode().values[0]\n",
    "# Вычисление медианы\n",
    "медиана = series.median()\n",
    "медиана_ves = series1.median()\n",
    "# Вычисление размаха\n",
    "размах = series.max() - series.min()\n",
    "размах_ves = series1.max() - series1.min()\n",
    "# Вычисление дисперсии\n",
    "дисперсия = series.var()\n",
    "дисперсия_ves = series1.var()\n",
    "# Вычисление стандартного отклонения\n",
    "стандартное_отклонение = series.std()\n",
    "стандартное_отклонение_ves = series1.std()\n",
    "# Вычисление асимметрии\n",
    "асимметрия = series.skew()\n",
    "асимметрия_ves = series1.skew()\n",
    "# Вычисление эксцесса\n",
    "эксцесс = series.kurtosis()\n",
    "эксцесс_ves = series1.kurtosis()\n",
    "print('Girls')\n",
    "print(\"Среднее:\",среднее)\n",
    "print(\"Мода:\",мода)\n",
    "print(\"Медиана:\", медиана)\n",
    "print(\"Размах:\", размах)\n",
    "print(\"Дисперсия:\", дисперсия)\n",
    "print(\"Стандартное отклонение:\", стандартное_отклонение)\n",
    "print(\"Стандартная асимметрия:\", асимметрия)\n",
    "print(\"Стандартный эксцесс:\", эксцесс)\n",
    "print('------------------')\n",
    "print(\"Среднее ves:\", среднее_ves)\n",
    "print(\"Мода ves:\", мода_ves)\n",
    "print(\"Медиана ves :\", медиана_ves)\n",
    "print(\"Размах ves :\", размах_ves)\n",
    "print(\"Дисперсия ves:\", дисперсия_ves)\n",
    "print(\"Стандартное отклонение ves:\", стандартное_отклонение_ves)\n",
    "print(\"Стандартная асимметрия ves:\", асимметрия_ves)\n",
    "print(\"Стандартный эксцесс ves:\", эксцесс_ves)\n",
    "\n"
   ]
  },
  {
   "cell_type": "markdown",
   "id": "b657923f-0c72-4010-97d4-a57d37f8419c",
   "metadata": {},
   "source": [
    "Математическая формула для вычисления выборочного среднего (X̄) выглядит следующим образом:\n",
    "\n",
    "X̄ = (x₁ + x₂ + x₃ + ... + xₙ) / n\n",
    "\n",
    "Где:\n",
    "\n",
    "X̄ - выборочное среднее (среднее значение).\n",
    "x₁, x₂, x₃, ... xₙ - значения в выборке.\n",
    "n - количество значений в выборке."
   ]
  },
  {
   "cell_type": "code",
   "execution_count": null,
   "id": "72e8e494-d335-420d-969e-a42bc1a9fadb",
   "metadata": {},
   "outputs": [],
   "source": []
  },
  {
   "cell_type": "markdown",
   "id": "1c16dcab-755b-44b5-b6ea-5ca2b6a3fdb9",
   "metadata": {},
   "source": [
    "S² = Σ(xᵢ - X̄)² / (n - 1)\n",
    "\n",
    "Где:\n",
    "\n",
    "S² - несмещенная выборочная дисперсия.\n",
    "xᵢ - значения в выборке.\n",
    "X̄ - выборочное среднее.\n",
    "n - количество значений в выборке.\n"
   ]
  },
  {
   "cell_type": "code",
   "execution_count": null,
   "id": "aae49ebf-199e-4c73-acd1-15c18c7c0aee",
   "metadata": {},
   "outputs": [],
   "source": []
  },
  {
   "cell_type": "markdown",
   "id": "90a7770a-a148-4091-81ce-43c2bdb6eaf6",
   "metadata": {},
   "source": [
    "\n",
    "(Выборочная) мода - это значение или значения в выборке, которые встречаются наиболее часто. В выборке может быть одна мода (унимодальная выборка), несколько мод (мультимодальная выборка), или вообще не быть моды, если все значения в выборке уникальны и не повторяются с одинаковой частотой.\n",
    "\n",
    "Давайте рассмотрим пример:\n",
    "\n",
    "Предположим, у нас есть следующая выборка оценок студентов по математике:\n",
    "\n",
    "78, 85, 92, 78, 90, 78, 85, 88, 92\n",
    "\n",
    "Чтобы найти моду этой выборки, мы должны определить, какое значение повторяется наибольшее количество раз.\n",
    "\n",
    "В данной выборке значения 78 встречаются 3 раза, значения 85 и 92 также встречаются 2 раза, а значения 88 и 90 встречаются по 1 разу. Наиболее часто встречающееся значение - это 78. Поэтому мода этой выборки равна 78."
   ]
  },
  {
   "cell_type": "code",
   "execution_count": null,
   "id": "a787047f-7f66-4939-9319-73f32f30427e",
   "metadata": {},
   "outputs": [],
   "source": []
  },
  {
   "cell_type": "markdown",
   "id": "115b2680-7767-4ee9-ba63-0568597ce61c",
   "metadata": {},
   "source": [
    "(Выборочная) медиана - это значение, которое разделяет упорядоченную выборку пополам, так что половина значений находится слева от медианы, и половина - справа. В случае, если в выборке четное количество значений, медиана вычисляется как среднее арифметическое двух центральных значений. В случае нечетного количества значений, медиана равна центральному значению выборки.\n",
    "\n",
    "Давайте рассмотрим пример для лучшего понимания:\n",
    "\n",
    "Предположим, у нас есть следующая выборка возрастов студентов:\n",
    "\n",
    "19, 22, 23, 24, 25, 26, 30\n",
    "\n",
    "Сначала отсортируем эту выборку в порядке возрастания:\n",
    "\n",
    "19, 22, 23, 24, 25, 26, 30\n",
    "\n",
    "Теперь у нас есть 7 значений в выборке, что является нечетным числом, поэтому медианой будет центральное значение, которое в данном случае равно 24. Это означает, что половина студентов в этой выборке моложе 24 лет, а другая половина старше 24 лет.\n",
    "В выборке с четным количеством значений,чтобы найти медиану, мы возьмем среднее арифметическое двух центральных значений "
   ]
  },
  {
   "cell_type": "code",
   "execution_count": null,
   "id": "9aba1eca-28d1-40ec-94ef-141f20238e4a",
   "metadata": {},
   "outputs": [],
   "source": []
  },
  {
   "cell_type": "markdown",
   "id": "e40f38bd-245a-4575-87dc-f6134a79c109",
   "metadata": {},
   "source": [
    "Коэффициент асимметрии (Skewness):\n",
    "\n",
    "Коэффициент асимметрии (Skewness) можно вычислить по следующей формуле:\n",
    "\n",
    "Skewness = Σ((Xi - X̄)³ / (n * S³))\n",
    "\n",
    "Где:\n",
    "\n",
    "Xi - каждое значение в выборке.\n",
    "X̄ - выборочное среднее.\n",
    "n - количество значений в выборке.\n",
    "S - выборочное стандартное отклонение.\n",
    "Знак коэффициента асимметрии указывает на направление асимметрии:\n",
    "\n",
    "Положительное значение: правосторонняя асимметрия.\n",
    "Отрицательное значение: левосторонняя асимметрия.\n",
    "Близкое к нулю значение: симметрия.\n",
    "Коэффициент эксцесса (Kurtosis):\n",
    "\n",
    "Коэффициент эксцесса (Kurtosis) можно вычислить по следующей формуле:\n",
    "\n",
    "Kurtosis = Σ((Xi - X̄)⁴ / (n * S⁴)) - 3\n",
    "\n",
    "Где:\n",
    "\n",
    "Xi - каждое значение в выборке.\n",
    "X̄ - выборочное среднее.\n",
    "n - количество значений в выборке.\n",
    "S - выборочное стандартное отклонение.\n",
    "Эксцесс обычно вычитают 3, чтобы получить более удобные значения:\n",
    "\n",
    "Положительное значение эксцесса: лептокуртоз (острый пик).\n",
    "Отрицательное значение эксцесса: плоскокуртоз (плоский пик).\n",
    "Эксцесс равный 0: мезокуртоз (близкий к нормальному распределению пик).\n",
    "\n",
    "\n",
    "\n",
    "\n"
   ]
  },
  {
   "cell_type": "code",
   "execution_count": null,
   "id": "39fe10b7-76ba-42f0-9da5-14d02f6ff9f9",
   "metadata": {},
   "outputs": [],
   "source": []
  },
  {
   "cell_type": "markdown",
   "id": "b06ace7a-4430-48bc-bf22-556102b39ac6",
   "metadata": {},
   "source": [
    "Коэффициент вариации вычисляется по следующей формуле:\n",
    "\n",
    "CV = (S / X̄) * 100%\n",
    "\n",
    "Где:\n",
    "\n",
    "CV - коэффициент вариации.\n",
    "S - выборочное стандартное отклонение.\n",
    "X̄ - выборочное среднее (среднее значение).\n",
    "Использование коэффициента вариации:\n",
    "\n",
    "Сравнение изменчивости: CV позволяет сравнивать изменчивость данных между разными выборками или группами. Большой коэффициент вариации указывает на большую относительную изменчивость данных, в то время как маленький CV указывает на меньшую изменчивость.\n",
    "\n",
    "Стандартизация: CV позволяет стандартизировать меру изменчивости в процентах относительно среднего значения. Это особенно полезно при сравнении данных с разными единицами измерения.\n",
    "\n",
    "Принятие решений: CV может помочь в принятии решений, связанных с рисками и неопределенностью. Высокий коэффициент вариации может свидетельствовать о более рискованных ситуациях, где данные меняются сильно относительно среднего значения.\n",
    "\n",
    "Качество данных: CV может использоваться для оценки качества данных. Большой коэффициент вариации может указывать на проблемы с надежностью данных или нестабильностью процесса.\n",
    "\n",
    "Прогнозирование: В некоторых случаях, например, при прогнозировании спроса на товары или услуги, знание коэффициента вариации может помочь учесть изменчивость и риски при разработке стратегии."
   ]
  },
  {
   "cell_type": "code",
   "execution_count": null,
   "id": "6504688d-6ceb-4897-93e5-2ce19420dc1c",
   "metadata": {},
   "outputs": [],
   "source": []
  },
  {
   "cell_type": "markdown",
   "id": "7655ef0e-b22a-4af4-9716-1f6bf99ed95d",
   "metadata": {},
   "source": [
    "Репрезентативность выборки - это свойство выборки, которое означает, что она точно или приближенно отражает основные характеристики и свойства генеральной совокупности, из которой была взята выборка. Репрезентативная выборка должна быть такой, что результаты и выводы, сделанные на основе анализа этой выборки, можно обобщить на всю генеральную совокупность без существенных искажений.\n",
    "\n",
    "Важные аспекты репрезентативной выборки включают:\n",
    "\n",
    "Случайность: Выборка должна быть случайной, что означает, что каждый элемент из генеральной совокупности имеет равные шансы быть включенным в выборку. Это помогает избежать смещения выборки и обеспечивает обобщаемость результатов.\n",
    "\n",
    "Разнообразие: Выборка должна отражать разнообразие характеристик, присущих генеральной совокупности. Например, если вы исследуете предпочтения потребителей по возрасту, выборка должна включать людей разного возраста, чтобы отразить многообразие возрастных групп в генеральной совокупности.\n",
    "\n",
    "Размер выборки: Размер выборки должен быть достаточным, чтобы обеспечить статистическую значимость и точность оценок. Маленькая выборка может привести к ненадежным результатам.\n",
    "\n",
    "Отсутствие искажений: Выборка не должна содержать систематические искажения (смещения), которые могут исказить результаты. Например, если при создании выборки предпочтение отдавалось определенной группе, это может повлиять на репрезентативность выборки.\n",
    "\n",
    "Актуальность: Выборка должна быть актуальной и соответствовать временным рамкам и условиям исследования. Например, данные о потребительских предпочтениях, собранные десятилетие назад, могут быть неактуальными для сегодняшних реалий.\n",
    "\n",
    "Планирование и методы сбора данных: Процесс выборки и сбора данных должен быть строго спланирован и выполнен с соблюдением методологии, чтобы избежать искажений.\n",
    "\n"
   ]
  },
  {
   "cell_type": "code",
   "execution_count": null,
   "id": "f9f3bff3-2d25-4351-b601-9ad7bd567412",
   "metadata": {},
   "outputs": [],
   "source": []
  },
  {
   "cell_type": "markdown",
   "id": "48f7776f-055b-474f-9d36-ec22ebdfba4f",
   "metadata": {},
   "source": [
    "гистограмма частот :\n",
    "\n",
    "В гистограмме, ось X представляет собой интервалы значений (интервалы группировки), а ось Y представляет собой частоту (количество значений) в каждом интервале.\n",
    "\n"
   ]
  },
  {
   "cell_type": "code",
   "execution_count": null,
   "id": "ae4e1904-01b0-4ec6-aee1-0153e1e667fe",
   "metadata": {},
   "outputs": [],
   "source": []
  },
  {
   "cell_type": "markdown",
   "id": "c30e28d2-b3c4-442b-b2ee-44a5e4d13a65",
   "metadata": {},
   "source": [
    "Кумулята частостей (или кумулятивная частота) - это статистический термин, который используется для обозначения суммарного накопления частот или количества значений, не превышающих определенного уровня или интервала в наборе данных. Кумулята частостей представляет собой кумулятивную сумму частот для всех значений, начиная с самого низкого значения и постепенно увеличиваясь к более высоким значениям.\n",
    "\n",
    "Статистический аналог кумуляты частостей можно найти в кумулятивной таблице (или таблице кумулятивных частот), которая представляет собой таблицу, где для каждого значения или интервала значений указывается кумулятивное количество значений, которые меньше или равны этому значению или интервалу."
   ]
  },
  {
   "cell_type": "code",
   "execution_count": null,
   "id": "cc7a67f9-2462-4ddf-81a3-36deff5d862f",
   "metadata": {},
   "outputs": [],
   "source": []
  },
  {
   "cell_type": "markdown",
   "id": "219c523c-389a-4c19-92a5-7f9675f6f2f1",
   "metadata": {},
   "source": [
    "Кумулята частостей (или кумулятивная частотная таблица) - это статистический инструмент, который используется для описания накопленной частоты значений или интервалов значений в выборке или генеральной совокупности. Кумулята частостей представляют собой таблицу или график, который показывает, как много значений находится в или ниже определенного интервала или значения.\n",
    "\n",
    "Кумулята частостей аналогична статистическому инструменту, известному как кумулятивная частотная функция (как аналог кумулятивной частотной таблицы). Кумулятивная частотная функция представляет собой функцию, которая показывает накопленную частоту значений меньше или равных определенному значению."
   ]
  },
  {
   "cell_type": "code",
   "execution_count": null,
   "id": "41bab680-389e-439f-9b36-4330435494c4",
   "metadata": {},
   "outputs": [],
   "source": []
  },
  {
   "cell_type": "markdown",
   "id": "cfe7c916-7dd1-4083-a79c-76a68cd9bef4",
   "metadata": {
    "tags": []
   },
   "source": [
    "Выборочное среднее для сгруппированных данных записывается следующим образом:\n",
    "\n",
    "X̄ = Σ(f * x) / Σf\n",
    "\n",
    "Где:\n",
    "\n",
    "X̄ - выборочное среднее (среднее значение).\n",
    "Σ - обозначает сумму.\n",
    "f - частота (количество наблюдений) в каждом интервале или группе данных.\n",
    "x - среднее значение или центр интервала данных.\n"
   ]
  },
  {
   "cell_type": "code",
   "execution_count": null,
   "id": "379ba79d-97e1-4ed5-a053-3e772d030e49",
   "metadata": {},
   "outputs": [],
   "source": []
  }
 ],
 "metadata": {
  "kernelspec": {
   "display_name": "Python 3 (ipykernel)",
   "language": "python",
   "name": "python3"
  },
  "language_info": {
   "codemirror_mode": {
    "name": "ipython",
    "version": 3
   },
   "file_extension": ".py",
   "mimetype": "text/x-python",
   "name": "python",
   "nbconvert_exporter": "python",
   "pygments_lexer": "ipython3",
   "version": "3.11.2"
  }
 },
 "nbformat": 4,
 "nbformat_minor": 5
}
