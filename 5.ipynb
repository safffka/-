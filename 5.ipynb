{
 "cells": [
  {
   "cell_type": "code",
   "execution_count": 1,
   "id": "b10dadd5-0b67-42bb-aac5-975209812168",
   "metadata": {
    "tags": []
   },
   "outputs": [
    {
     "name": "stdout",
     "output_type": "stream",
     "text": [
      "Результаты критерия Уилкоксона для связанных выборок:\n",
      "W-статистика: 7.0\n",
      "p-значение: 0.0658399776970815\n",
      "Не отвергаем нулевую гипотезу: Нет статистически значимой разницы в весе до и после диеты.\n"
     ]
    },
    {
     "name": "stderr",
     "output_type": "stream",
     "text": [
      "/Library/Frameworks/Python.framework/Versions/3.11/lib/python3.11/site-packages/scipy/stats/_morestats.py:3414: UserWarning: Exact p-value calculation does not work if there are zeros. Switching to normal approximation.\n",
      "  warnings.warn(\"Exact p-value calculation does not work if there are \"\n",
      "/Library/Frameworks/Python.framework/Versions/3.11/lib/python3.11/site-packages/scipy/stats/_morestats.py:3428: UserWarning: Sample size too small for normal approximation.\n",
      "  warnings.warn(\"Sample size too small for normal approximation.\")\n"
     ]
    }
   ],
   "source": [
    "import scipy.stats as stats\n",
    "\n",
    "# Определите ваши данные\n",
    "before_diet = [68, 80, 92, 81, 70, 79, 78, 68, 57, 76]  # Вес до диеты\n",
    "after_diet = [60, 84, 87, 79, 74, 71, 72, 67, 57, 60]   # Вес после диеты\n",
    "\n",
    "# Выполните критерий Уилкоксона для связанных выборок (непараметрический тест)\n",
    "w_statistic, p_value = stats.wilcoxon(before_diet, after_diet)\n",
    "\n",
    "# Выведите результаты непараметрического теста\n",
    "print(\"Результаты критерия Уилкоксона для связанных выборок:\")\n",
    "print(f\"W-статистика: {w_statistic}\")\n",
    "print(f\"p-значение: {p_value}\")\n",
    "\n",
    "# Проверьте, является ли результат статистически значимым на уровне значимости alpha = 0.05\n",
    "alpha = 0.05\n",
    "if p_value < alpha:\n",
    "    print(\"Отвергаем нулевую гипотезу: Существует статистически значимая разница в весе до и после диеты.\")\n",
    "else:\n",
    "    print(\"Не отвергаем нулевую гипотезу: Нет статистически значимой разницы в весе до и после диеты.\")\n"
   ]
  },
  {
   "cell_type": "markdown",
   "id": "c01433a9-30fe-4c90-8aa1-5eb445371dd9",
   "metadata": {},
   "source": [
    "Нулевая гипотеза (H0) будет заключаться в том, что средние значения процентов расходов на транспорт в Москве и Екатеринбурге равны. Альтернативная гипотеза (H1) будет заключаться в том, что средние значения различаются.\n",
    "\n"
   ]
  },
  {
   "cell_type": "code",
   "execution_count": 2,
   "id": "6bfc1fe9-eba7-4ce9-9a8e-8e4e39d1e034",
   "metadata": {
    "tags": []
   },
   "outputs": [
    {
     "name": "stdout",
     "output_type": "stream",
     "text": [
      "Результаты t-теста:\n",
      "t-статистика: 2.2373225992998274\n",
      "p-значение: 0.03481482553187876\n",
      "Отвергаем нулевую гипотезу: Существует существенное различие в доле транспортных расходов между Москвой и Екатеринбургом.\n"
     ]
    }
   ],
   "source": [
    "import scipy.stats as stats\n",
    "\n",
    "# Данные для Москвы и Екатеринбурга (в процентах от семейного бюджета)\n",
    "moscow = [12.1, 6.2, 6.0, 8.4, 4.2, 6.8, 6.9, 20.0, 13.5, 7.2, 8.5, 10.7, 7.9]\n",
    "ekaterinburg = [5.3, 5.7, 4.2, 4.6, 10.8, 5.0, 5.2, 12.7, 6.3, 3.2, 5.0, 4.8, 5.7]\n",
    "\n",
    "# Выполним t-тест для независимых выборок\n",
    "t_statistic, p_value = stats.ttest_ind(moscow, ekaterinburg)\n",
    "\n",
    "# Выведем результаты\n",
    "print(\"Результаты t-теста:\")\n",
    "print(f\"t-статистика: {t_statistic}\")\n",
    "print(f\"p-значение: {p_value}\")\n",
    "\n",
    "# Выберем уровень значимости (alpha)\n",
    "alpha = 0.05\n",
    "\n",
    "# Проверим гипотезу и сделаем вывод\n",
    "if p_value < alpha:\n",
    "    print(\"Отвергаем нулевую гипотезу: Существует существенное различие в доле транспортных расходов между Москвой и Екатеринбургом.\")\n",
    "else:\n",
    "    print(\"Не отвергаем нулевую гипотезу: Нет существенного различия в доле транспортных расходов между Москвой и Екатеринбургом.\")\n"
   ]
  },
  {
   "cell_type": "markdown",
   "id": "dda142d5-5456-42eb-8d4a-893c2cba528c",
   "metadata": {},
   "source": [
    "Нулевая гипотеза (H0) будет заключаться в том, что партийность и род деятельности независимы, то есть нет связи между ними. Альтернативная гипотеза (H1) будет говорить о наличии связи между партийностью и родом деятельности.\n",
    "\n"
   ]
  },
  {
   "cell_type": "code",
   "execution_count": 3,
   "id": "44b0c16e-993d-41bd-a043-2f0f4523ad24",
   "metadata": {
    "tags": []
   },
   "outputs": [
    {
     "name": "stdout",
     "output_type": "stream",
     "text": [
      "Результаты Хи-квадрат теста:\n",
      "Статистика Хи-квадрат: 15.017476350809684\n",
      "p-значение: 0.0005482724761127851\n",
      "Отвергаем нулевую гипотезу: Существует связь между партийностью и родом деятельности.\n"
     ]
    }
   ],
   "source": [
    "import scipy.stats as stats\n",
    "\n",
    "# Создайте таблицу сопряженности\n",
    "observed = [[13, 16, 7],\n",
    "            [9, 2, 17]]\n",
    "\n",
    "# Выполните Хи-квадрат тест\n",
    "chi2, p, _, _ = stats.chi2_contingency(observed)\n",
    "\n",
    "# Выведем результаты\n",
    "print(\"Результаты Хи-квадрат теста:\")\n",
    "print(f\"Статистика Хи-квадрат: {chi2}\")\n",
    "print(f\"p-значение: {p}\")\n",
    "\n",
    "# Выберем уровень значимости (alpha)\n",
    "alpha = 0.05\n",
    "\n",
    "# Проверим гипотезу и сделаем вывод\n",
    "if p < alpha:\n",
    "    print(\"Отвергаем нулевую гипотезу: Существует связь между партийностью и родом деятельности.\")\n",
    "else:\n",
    "    print(\"Не отвергаем нулевую гипотезу: Нет связи между партийностью и родом деятельности.\")\n"
   ]
  },
  {
   "cell_type": "code",
   "execution_count": 5,
   "id": "eef765a4-53fb-4565-ba1b-3ea7725ad898",
   "metadata": {
    "tags": []
   },
   "outputs": [],
   "source": [
    "%store -r df_boys\n",
    "%store -r df_girls"
   ]
  },
  {
   "cell_type": "code",
   "execution_count": 7,
   "id": "8b485f91-1416-4abe-928d-cd5f2a4df089",
   "metadata": {
    "tags": []
   },
   "outputs": [],
   "source": [
    "import pandas as pd\n",
    "series_b = pd.Series(df_boys['rost'])\n",
    "series_g =pd.Series(df_girls['rost'])"
   ]
  },
  {
   "cell_type": "code",
   "execution_count": 9,
   "id": "09a610e1-e6d9-4cef-9130-e9f2f5cb10fe",
   "metadata": {
    "tags": []
   },
   "outputs": [],
   "source": [
    "boys=series_b.values\n",
    "girls=series_g.values"
   ]
  },
  {
   "cell_type": "markdown",
   "id": "d4ee78da-bcb0-486c-9996-2f7c97dec4cf",
   "metadata": {},
   "source": [
    "Hулевая гипотеза (H0) будет заключаться в том, что средние значения роста девочек и мальчиков равны, то есть нет статистически значимого различия. Альтернативная гипотеза (H1) будет говорить о наличии статистически значимого различия между ростом девочек и мальчиков."
   ]
  },
  {
   "cell_type": "code",
   "execution_count": 14,
   "id": "befb39eb-9537-4f33-ae13-0a1086969e91",
   "metadata": {
    "tags": []
   },
   "outputs": [
    {
     "name": "stdout",
     "output_type": "stream",
     "text": [
      "Результаты t-теста:\n",
      "t-статистика: 7.17485990270329\n",
      "p-значение: 1.4281324723392032e-08\n",
      "Отвергаем нулевую гипотезу: Существует статистически значимое различие в росте между девочками и мальчиками.\n"
     ]
    }
   ],
   "source": [
    "import scipy.stats as stats\n",
    "\n",
    "# Рост мальчиков и девочек (в см)\n",
    "boys = [180., 187., 173., 186., 195., 178., 180., 175., 182., 190., 187., 173., 180., 188., 182., 182., 178., 174., 175., 178., 171., 175., 172., 185.]\n",
    "girls = [173., 164., 170., 160., 160., 168., 170., 160., 177., 168., 160., 165., 173., 162., 163., 169.]\n",
    "\n",
    "# Выполним t-тест для независимых выборок\n",
    "t_statistic, p_value = stats.ttest_ind(boys, girls)\n",
    "\n",
    "# Выведем результаты\n",
    "print(\"Результаты t-теста:\")\n",
    "print(f\"t-статистика: {t_statistic}\")\n",
    "print(f\"p-значение: {p_value}\")\n",
    "\n",
    "# Выберем уровень значимости (alpha)\n",
    "alpha = 0.05\n",
    "\n",
    "# Проверим гипотезу и сделаем вывод\n",
    "if p_value < alpha:\n",
    "    print(\"Отвергаем нулевую гипотезу: Существует статистически значимое различие в росте между девочками и мальчиками.\")\n",
    "else:\n",
    "    print(\"Не отвергаем нулевую гипотезу: Нет статистически значимого различия в росте между девочками и мальчиками.\")\n"
   ]
  },
  {
   "cell_type": "code",
   "execution_count": null,
   "id": "569f56bc-3712-4102-ac7f-c4ffe516cef7",
   "metadata": {},
   "outputs": [],
   "source": []
  }
 ],
 "metadata": {
  "kernelspec": {
   "display_name": "Python 3 (ipykernel)",
   "language": "python",
   "name": "python3"
  },
  "language_info": {
   "codemirror_mode": {
    "name": "ipython",
    "version": 3
   },
   "file_extension": ".py",
   "mimetype": "text/x-python",
   "name": "python",
   "nbconvert_exporter": "python",
   "pygments_lexer": "ipython3",
   "version": "3.11.2"
  }
 },
 "nbformat": 4,
 "nbformat_minor": 5
}
