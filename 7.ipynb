{
 "cells": [
  {
   "cell_type": "code",
   "execution_count": 1,
   "id": "4fb693e9-bbfd-4c93-aa7a-7d24467972ca",
   "metadata": {
    "tags": []
   },
   "outputs": [
    {
     "name": "stdout",
     "output_type": "stream",
     "text": [
      "Результаты критерия хи-квадрат (Chi-Square Test):\n",
      "Статистика Хи-квадрат: 0.728767234916748\n",
      "p-значение: 0.9477345247693584\n",
      "Не отвергаем нулевую гипотезу: Нет связи между статусом опрашиваемого и ответами на вопрос о возможности краха рынка.\n"
     ]
    }
   ],
   "source": [
    "import scipy.stats as stats\n",
    "\n",
    "# Данные из таблицы\n",
    "observed = [[18, 26],\n",
    "            [41, 65],\n",
    "            [52, 68],\n",
    "            [19, 31],\n",
    "            [8, 13]]\n",
    "\n",
    "# Выполним критерий хи-квадрат (Chi-Square Test)\n",
    "chi2, p, _, _ = stats.chi2_contingency(observed)\n",
    "\n",
    "# Выведем результаты\n",
    "print(\"Результаты критерия хи-квадрат (Chi-Square Test):\")\n",
    "print(f\"Статистика Хи-квадрат: {chi2}\")\n",
    "print(f\"p-значение: {p}\")\n",
    "\n",
    "# Выберем уровень значимости (alpha)\n",
    "alpha = 0.05\n",
    "\n",
    "# Проверим гипотезу и сделаем вывод\n",
    "if p < alpha:\n",
    "    print(\"Отвергаем нулевую гипотезу: Существует связь между статусом опрашиваемого и ответами на вопрос о возможности краха рынка.\")\n",
    "else:\n",
    "    print(\"Не отвергаем нулевую гипотезу: Нет связи между статусом опрашиваемого и ответами на вопрос о возможности краха рынка.\")\n"
   ]
  },
  {
   "cell_type": "code",
   "execution_count": 2,
   "id": "c32118ec-be1e-4f64-91ef-ab1c35a99c10",
   "metadata": {
    "tags": []
   },
   "outputs": [
    {
     "name": "stdout",
     "output_type": "stream",
     "text": [
      "Коэффициент корреляции Пирсона: -0.4545454545454544\n",
      "p-значение: 0.1869048103493321\n",
      "Нет статистически значимой корреляции между ростом и быстротой бега.\n"
     ]
    }
   ],
   "source": [
    "import numpy as np\n",
    "import scipy.stats as stats\n",
    "\n",
    "# Данные о росте и быстроте бега\n",
    "рост = np.array([1, 2, 3, 4, 5, 6, 7, 8, 9, 10])\n",
    "быстрота = np.array([5, 6, 10, 7, 9, 4, 3, 1, 8, 2])\n",
    "\n",
    "# Рассчитываем коэффициент корреляции Пирсона и p-значение\n",
    "correlation_coefficient, p_value = stats.pearsonr(рост, быстрота)\n",
    "\n",
    "# Выводим результаты\n",
    "print(f\"Коэффициент корреляции Пирсона: {correlation_coefficient}\")\n",
    "print(f\"p-значение: {p_value}\")\n",
    "\n",
    "# Уровень значимости\n",
    "alpha = 0.05\n",
    "\n",
    "# Проверяем статистическую значимость\n",
    "if p_value < alpha:\n",
    "    print(\"Существует статистически значимая корреляция между ростом и быстротой бега.\")\n",
    "else:\n",
    "    print(\"Нет статистически значимой корреляции между ростом и быстротой бега.\")\n"
   ]
  },
  {
   "cell_type": "code",
   "execution_count": 3,
   "id": "342555a8-23f2-4e32-8e3c-371d5f091388",
   "metadata": {
    "tags": []
   },
   "outputs": [
    {
     "name": "stdout",
     "output_type": "stream",
     "text": [
      "Коэффициент корреляции Пирсона: 0.3208046690840527\n",
      "p-значение: 0.36611149348450045\n",
      "Нет статистически значимой корреляции между темпами прироста ВНП и промышленного производства.\n"
     ]
    }
   ],
   "source": [
    "import scipy.stats as stats\n",
    "\n",
    "# Данные о темпах прироста ВНП и промышленного производства\n",
    "внп = [3.5, 4.3, 2.1, 3.1, 4.6, 3.9, 2.2, 2.0, 3.4, 2.7]\n",
    "промышленное_производство = [3.1, 2.9, 2.7, 3.0, 5.6, 1.6, 1.4, 4.0, 3.1, 3.4]\n",
    "\n",
    "# Рассчитываем коэффициент корреляции Пирсона и p-значение\n",
    "correlation_coefficient, p_value = stats.pearsonr(внп, промышленное_производство)\n",
    "\n",
    "# Выводим результаты\n",
    "print(f\"Коэффициент корреляции Пирсона: {correlation_coefficient}\")\n",
    "print(f\"p-значение: {p_value}\")\n",
    "\n",
    "# Уровень значимости\n",
    "alpha = 0.05\n",
    "\n",
    "# Проверяем статистическую значимость\n",
    "if p_value < alpha:\n",
    "    print(\"Существует статистически значимая корреляция между темпами прироста ВНП и промышленного производства.\")\n",
    "else:\n",
    "    print(\"Нет статистически значимой корреляции между темпами прироста ВНП и промышленного производства.\")\n"
   ]
  },
  {
   "cell_type": "code",
   "execution_count": 4,
   "id": "b307556a-b675-468a-87cd-d4c4eefcddce",
   "metadata": {
    "tags": []
   },
   "outputs": [
    {
     "name": "stdout",
     "output_type": "stream",
     "text": [
      "Коэффициент корреляции Пирсона между ВНП и Индексом цен: 0.537093917955855\n",
      "p-значение: 0.10939618031682045\n",
      "Нет статистически значимой корреляции между ВНП и Индексом цен.\n"
     ]
    }
   ],
   "source": [
    "import scipy.stats as stats\n",
    "\n",
    "# Данные о ВНП (х(1)) и Индексе цен (х(3))\n",
    "внп = [3.5, 4.3, 2.1, 3.1, 4.6, 3.9, 2.2, 2.0, 3.4, 2.7]\n",
    "индекс_цен = [3.0, 5.6, 1.6, 1.4, 4.0, 3.1, 3.4, 3.0, 1.8, 2.6]\n",
    "\n",
    "# Рассчитываем коэффициент корреляции Пирсона и p-значение\n",
    "correlation_coefficient, p_value = stats.pearsonr(внп, индекс_цен)\n",
    "\n",
    "# Выводим результаты\n",
    "print(f\"Коэффициент корреляции Пирсона между ВНП и Индексом цен: {correlation_coefficient}\")\n",
    "print(f\"p-значение: {p_value}\")\n",
    "\n",
    "# Уровень значимости\n",
    "alpha = 0.05\n",
    "\n",
    "# Проверяем статистическую значимость\n",
    "if p_value < alpha:\n",
    "    print(\"Существует статистически значимая корреляция между ВНП и Индексом цен.\")\n",
    "else:\n",
    "    print(\"Нет статистически значимой корреляции между ВНП и Индексом цен.\")\n"
   ]
  },
  {
   "cell_type": "code",
   "execution_count": 9,
   "id": "2421d5a2-60dc-4614-801d-c4aac995902f",
   "metadata": {
    "tags": []
   },
   "outputs": [
    {
     "name": "stdout",
     "output_type": "stream",
     "text": [
      "Requirement already satisfied: pingouin in /Library/Frameworks/Python.framework/Versions/3.11/lib/python3.11/site-packages (0.5.3)\n",
      "Requirement already satisfied: numpy>=1.19 in /Library/Frameworks/Python.framework/Versions/3.11/lib/python3.11/site-packages (from pingouin) (1.24.2)\n",
      "Requirement already satisfied: scipy>=1.7 in /Library/Frameworks/Python.framework/Versions/3.11/lib/python3.11/site-packages (from pingouin) (1.10.1)\n",
      "Requirement already satisfied: pandas>=1.0 in /Library/Frameworks/Python.framework/Versions/3.11/lib/python3.11/site-packages (from pingouin) (2.0.1)\n",
      "Requirement already satisfied: matplotlib>=3.0.2 in /Library/Frameworks/Python.framework/Versions/3.11/lib/python3.11/site-packages (from pingouin) (3.7.1)\n",
      "Requirement already satisfied: seaborn>=0.11 in /Library/Frameworks/Python.framework/Versions/3.11/lib/python3.11/site-packages (from pingouin) (0.12.2)\n",
      "Requirement already satisfied: statsmodels>=0.13 in /Library/Frameworks/Python.framework/Versions/3.11/lib/python3.11/site-packages (from pingouin) (0.14.0)\n",
      "Requirement already satisfied: scikit-learn in /Library/Frameworks/Python.framework/Versions/3.11/lib/python3.11/site-packages (from pingouin) (1.2.2)\n",
      "Requirement already satisfied: pandas-flavor>=0.2.0 in /Library/Frameworks/Python.framework/Versions/3.11/lib/python3.11/site-packages (from pingouin) (0.6.0)\n",
      "Requirement already satisfied: outdated in /Library/Frameworks/Python.framework/Versions/3.11/lib/python3.11/site-packages (from pingouin) (0.2.2)\n",
      "Requirement already satisfied: tabulate in /Library/Frameworks/Python.framework/Versions/3.11/lib/python3.11/site-packages (from pingouin) (0.9.0)\n",
      "Requirement already satisfied: contourpy>=1.0.1 in /Library/Frameworks/Python.framework/Versions/3.11/lib/python3.11/site-packages (from matplotlib>=3.0.2->pingouin) (1.0.7)\n",
      "Requirement already satisfied: cycler>=0.10 in /Library/Frameworks/Python.framework/Versions/3.11/lib/python3.11/site-packages (from matplotlib>=3.0.2->pingouin) (0.11.0)\n",
      "Requirement already satisfied: fonttools>=4.22.0 in /Library/Frameworks/Python.framework/Versions/3.11/lib/python3.11/site-packages (from matplotlib>=3.0.2->pingouin) (4.39.3)\n",
      "Requirement already satisfied: kiwisolver>=1.0.1 in /Library/Frameworks/Python.framework/Versions/3.11/lib/python3.11/site-packages (from matplotlib>=3.0.2->pingouin) (1.4.4)\n",
      "Requirement already satisfied: packaging>=20.0 in /Library/Frameworks/Python.framework/Versions/3.11/lib/python3.11/site-packages (from matplotlib>=3.0.2->pingouin) (23.0)\n",
      "Requirement already satisfied: pillow>=6.2.0 in /Library/Frameworks/Python.framework/Versions/3.11/lib/python3.11/site-packages (from matplotlib>=3.0.2->pingouin) (9.4.0)\n",
      "Requirement already satisfied: pyparsing>=2.3.1 in /Library/Frameworks/Python.framework/Versions/3.11/lib/python3.11/site-packages (from matplotlib>=3.0.2->pingouin) (3.0.9)\n",
      "Requirement already satisfied: python-dateutil>=2.7 in /Library/Frameworks/Python.framework/Versions/3.11/lib/python3.11/site-packages (from matplotlib>=3.0.2->pingouin) (2.8.2)\n",
      "Requirement already satisfied: pytz>=2020.1 in /Library/Frameworks/Python.framework/Versions/3.11/lib/python3.11/site-packages (from pandas>=1.0->pingouin) (2023.3)\n",
      "Requirement already satisfied: tzdata>=2022.1 in /Library/Frameworks/Python.framework/Versions/3.11/lib/python3.11/site-packages (from pandas>=1.0->pingouin) (2023.3)\n",
      "Requirement already satisfied: xarray in /Library/Frameworks/Python.framework/Versions/3.11/lib/python3.11/site-packages (from pandas-flavor>=0.2.0->pingouin) (2023.8.0)\n",
      "Requirement already satisfied: patsy>=0.5.2 in /Library/Frameworks/Python.framework/Versions/3.11/lib/python3.11/site-packages (from statsmodels>=0.13->pingouin) (0.5.3)\n",
      "Requirement already satisfied: setuptools>=44 in /Library/Frameworks/Python.framework/Versions/3.11/lib/python3.11/site-packages (from outdated->pingouin) (65.5.0)\n",
      "Requirement already satisfied: littleutils in /Library/Frameworks/Python.framework/Versions/3.11/lib/python3.11/site-packages (from outdated->pingouin) (0.2.2)\n",
      "Requirement already satisfied: requests in /Library/Frameworks/Python.framework/Versions/3.11/lib/python3.11/site-packages (from outdated->pingouin) (2.28.2)\n",
      "Requirement already satisfied: joblib>=1.1.1 in /Library/Frameworks/Python.framework/Versions/3.11/lib/python3.11/site-packages (from scikit-learn->pingouin) (1.2.0)\n",
      "Requirement already satisfied: threadpoolctl>=2.0.0 in /Library/Frameworks/Python.framework/Versions/3.11/lib/python3.11/site-packages (from scikit-learn->pingouin) (3.1.0)\n",
      "Requirement already satisfied: six in /Library/Frameworks/Python.framework/Versions/3.11/lib/python3.11/site-packages (from patsy>=0.5.2->statsmodels>=0.13->pingouin) (1.16.0)\n",
      "Requirement already satisfied: charset-normalizer<4,>=2 in /Library/Frameworks/Python.framework/Versions/3.11/lib/python3.11/site-packages (from requests->outdated->pingouin) (3.1.0)\n",
      "Requirement already satisfied: idna<4,>=2.5 in /Library/Frameworks/Python.framework/Versions/3.11/lib/python3.11/site-packages (from requests->outdated->pingouin) (3.4)\n",
      "Requirement already satisfied: urllib3<1.27,>=1.21.1 in /Library/Frameworks/Python.framework/Versions/3.11/lib/python3.11/site-packages (from requests->outdated->pingouin) (1.26.15)\n",
      "Requirement already satisfied: certifi>=2017.4.17 in /Library/Frameworks/Python.framework/Versions/3.11/lib/python3.11/site-packages (from requests->outdated->pingouin) (2022.12.7)\n",
      "\n",
      "\u001b[1m[\u001b[0m\u001b[34;49mnotice\u001b[0m\u001b[1;39;49m]\u001b[0m\u001b[39;49m A new release of pip available: \u001b[0m\u001b[31;49m22.3.1\u001b[0m\u001b[39;49m -> \u001b[0m\u001b[32;49m23.2.1\u001b[0m\n",
      "\u001b[1m[\u001b[0m\u001b[34;49mnotice\u001b[0m\u001b[1;39;49m]\u001b[0m\u001b[39;49m To update, run: \u001b[0m\u001b[32;49mpip3 install --upgrade pip\u001b[0m\n",
      "          n         r          CI95%     p-val\n",
      "pearson  10  0.043716  [-0.64, 0.69]  0.911084\n",
      "Доля безработных не оказывает статистически значимого влияния на связь между промышленным производством и индексом цен.\n"
     ]
    }
   ],
   "source": [
    "import sys\n",
    "!{sys.executable} -m pip install pingouin\n",
    "import pingouin as pg\n",
    "import pandas as pd\n",
    "\n",
    "# Создайте pandas DataFrame с данными\n",
    "data = pd.DataFrame({\n",
    "    'Промышленное производство': [3.1, 2.9, 2.7, 3.0, 5.6, 1.6, 1.4, 4.0, 3.1, 3.4],\n",
    "    'Индекс цен': [3.0, 5.6, 1.6, 1.4, 4.0, 3.1, 3.4, 3.0, 1.8, 2.6],\n",
    "    'Доля безработных': [4.0, 2.3, 2.6, 3.4, 2.3, 2.4, 3.5, 2.3, 2.6, 3.4]\n",
    "})\n",
    "\n",
    "# Выполним анализ частной корреляции, учитывая долю безработных\n",
    "result = pg.partial_corr(data=data, x='Промышленное производство', y='Индекс цен', covar='Доля безработных')\n",
    "\n",
    "# Выведем результаты\n",
    "print(result)\n",
    "\n",
    "# Проверяем статистическую значимость\n",
    "alpha = 0.05\n",
    "p_value = result['p-val'].values[0]\n",
    "\n",
    "if p_value < alpha:\n",
    "    print(\"Существует статистически значимое влияние доли безработных на связь между промышленным производством и индексом цен.\")\n",
    "else:\n",
    "    print(\"Доля безработных не оказывает статистически значимого влияния на связь между промышленным производством и индексом цен.\")\n"
   ]
  },
  {
   "cell_type": "code",
   "execution_count": 12,
   "id": "6e81ef64-1d88-48d1-ba4d-f4321d9fa9cd",
   "metadata": {
    "tags": []
   },
   "outputs": [
    {
     "name": "stdout",
     "output_type": "stream",
     "text": [
      "Корреляция для мужчин:\n",
      "Между поиском и наличием одной работы: 1.0\n",
      "Между поиском и наличием двух и более работ: 1.0\n",
      "\n",
      "Корреляция для женщин:\n",
      "Между поиском и наличием одной работы: 1.0\n",
      "Между поиском и наличием двух и более работ: 1.0\n"
     ]
    }
   ],
   "source": [
    "import scipy.stats as stats\n",
    "\n",
    "# Данные\n",
    "male_search = [212, 29]\n",
    "male_employment = [2913, 46]\n",
    "female_search = [145, 20]\n",
    "female_employment = [1915, 45]\n",
    "\n",
    "# Корреляция для мужчин\n",
    "correlation_male_one_job, _ = stats.pearsonr(male_search, male_employment)\n",
    "correlation_male_two_or_more_jobs, _ = stats.pearsonr(male_search, male_employment)\n",
    "\n",
    "# Корреляция для женщин\n",
    "correlation_female_one_job, _ = stats.pearsonr(female_search, female_employment)\n",
    "correlation_female_two_or_more_jobs, _ = stats.pearsonr(female_search, female_employment)\n",
    "\n",
    "# Вывод результатов\n",
    "print(\"Корреляция для мужчин:\")\n",
    "print(f\"Между поиском и наличием одной работы: {correlation_male_one_job}\")\n",
    "print(f\"Между поиском и наличием двух и более работ: {correlation_male_two_or_more_jobs}\")\n",
    "\n",
    "print(\"\\nКорреляция для женщин:\")\n",
    "print(f\"Между поиском и наличием одной работы: {correlation_female_one_job}\")\n",
    "print(f\"Между поиском и наличием двух и более работ: {correlation_female_two_or_more_jobs}\")\n"
   ]
  },
  {
   "cell_type": "code",
   "execution_count": null,
   "id": "3a082ed2-329a-45ea-83e8-3c6c3ca8c82b",
   "metadata": {},
   "outputs": [],
   "source": []
  }
 ],
 "metadata": {
  "kernelspec": {
   "display_name": "Python 3 (ipykernel)",
   "language": "python",
   "name": "python3"
  },
  "language_info": {
   "codemirror_mode": {
    "name": "ipython",
    "version": 3
   },
   "file_extension": ".py",
   "mimetype": "text/x-python",
   "name": "python",
   "nbconvert_exporter": "python",
   "pygments_lexer": "ipython3",
   "version": "3.11.2"
  }
 },
 "nbformat": 4,
 "nbformat_minor": 5
}
