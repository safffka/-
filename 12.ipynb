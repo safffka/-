{
 "cells": [
  {
   "cell_type": "code",
   "execution_count": 5,
   "id": "001246bf-9d59-4646-a9c2-465e2c16f5fd",
   "metadata": {
    "tags": []
   },
   "outputs": [
    {
     "name": "stdout",
     "output_type": "stream",
     "text": [
      "                Fund  Rating  Growth  PE  PB  Dividend_Yield Recommendation   \n",
      "16            F. OTC       4      -3   8  15              49                 \\\n",
      "17   Columbia Growth       3      -1  13  12              34                  \n",
      "18  T. R. P. Capital       1       4  16   9              22                  \n",
      "19    Neub. Partners       2      -2  16  18              22                  \n",
      "\n",
      "   LDA_Recommendation  \n",
      "16               Hold  \n",
      "17                Buy  \n",
      "18                Buy  \n",
      "19                Buy  \n"
     ]
    },
    {
     "name": "stderr",
     "output_type": "stream",
     "text": [
      "/var/folders/gl/xhg0j2dn3dng5sjqmpktpcw80000gn/T/ipykernel_15771/4284005800.py:43: SettingWithCopyWarning: \n",
      "A value is trying to be set on a copy of a slice from a DataFrame.\n",
      "Try using .loc[row_indexer,col_indexer] = value instead\n",
      "\n",
      "See the caveats in the documentation: https://pandas.pydata.org/pandas-docs/stable/user_guide/indexing.html#returning-a-view-versus-a-copy\n",
      "  last_four_funds['LDA_Recommendation'] = recommendations\n"
     ]
    }
   ],
   "source": [
    "import pandas as pd\n",
    "from sklearn.discriminant_analysis import LinearDiscriminantAnalysis\n",
    "\n",
    "# Создайте DataFrame с данными\n",
    "data = {\n",
    "    'Fund': [\n",
    "        'F. Chip', 'F. Contra', 'F. Destiny', 'Vista A', 'Berger 100', 'Gab. Assett', 'Neub. Focus', 'F. Magellan',\n",
    "        'Janus', 'L. Mason Value', 'Gabelli Growth', 'Franklin Growth', 'Janus 20', 'AARP Capital', \n",
    "        'Kemper Growth A', '20th Cent. Growth', 'F. OTC', 'Columbia Growth', 'T. R. P. Capital', 'Neub. Partners'\n",
    "    ],\n",
    "    'Rating': [2, 2, 3, 4, 5, 1, 3, 3, 2, 4, 3, 2, 4, 4, 4, 4, 4, 3, 1, 2],\n",
    "    'Growth': [10, -1, 4, -1, -7, 0, 1, -2, -1, 1, -3, 3, -7, -10, -6, -8, -3, -1, 4, -2],\n",
    "    'PE': [25, 21, 26, 20, 21, 22, 16, 25, 11, 12, 11, 7, 3, 16, 2, 15, 8, 13, 16, 16],\n",
    "    'PB': [6, 16, 15, 13, 9, 15, 21, 7, 7, 11, 4, 3, 2, 5, -2, -4, 15, 12, 9, 18],\n",
    "    'Dividend_Yield': [55, 55, 39, 71, 89, 18, 25, 41, 43, 35, 34, 27, 69, 41, 67, 32, 49, 34, 22, 22],\n",
    "    'Recommendation': [\n",
    "        'Buy', 'Buy', 'Buy', 'Hold', 'Hold', 'Buy', 'Buy', 'Buy', 'Sell', 'Hold',\n",
    "        'Buy', 'Sell', 'Sell', 'Sell', 'Sell', 'Buy', '', '', '', ''\n",
    "    ]\n",
    "}\n",
    "\n",
    "df = pd.DataFrame(data)\n",
    "\n",
    "# Выделите первые 16 фондов для обучения\n",
    "training_data = df.iloc[:16]\n",
    "\n",
    "# Параметры для дискриминантного анализа (можно настроить)\n",
    "X_train = training_data[['Rating', 'Growth', 'PE', 'PB', 'Dividend_Yield']]\n",
    "y_train = training_data['Recommendation']\n",
    "\n",
    "# Создайте модель LDA и обучите ее на данных\n",
    "lda = LinearDiscriminantAnalysis()\n",
    "lda.fit(X_train, y_train)\n",
    "\n",
    "# Получите данные для последних четырех фондов\n",
    "last_four_funds = df.iloc[-4:]\n",
    "X_last_four = last_four_funds[['Rating', 'Growth', 'PE', 'PB', 'Dividend_Yield']]\n",
    "\n",
    "# Предскажите рекомендации для последних четырех фондов\n",
    "recommendations = lda.predict(X_last_four)\n",
    "\n",
    "# Добавьте рекомендации к DataFrame\n",
    "last_four_funds['LDA_Recommendation'] = recommendations\n",
    "\n",
    "# Выведите результаты\n",
    "print(last_four_funds[['Fund', 'Rating', 'Growth', 'PE', 'PB', 'Dividend_Yield', 'Recommendation', 'LDA_Recommendation']])\n"
   ]
  },
  {
   "cell_type": "code",
   "execution_count": null,
   "id": "312805e6-2c80-4c74-8d53-8c6261c54565",
   "metadata": {},
   "outputs": [],
   "source": []
  }
 ],
 "metadata": {
  "kernelspec": {
   "display_name": "Python 3 (ipykernel)",
   "language": "python",
   "name": "python3"
  },
  "language_info": {
   "codemirror_mode": {
    "name": "ipython",
    "version": 3
   },
   "file_extension": ".py",
   "mimetype": "text/x-python",
   "name": "python",
   "nbconvert_exporter": "python",
   "pygments_lexer": "ipython3",
   "version": "3.11.2"
  }
 },
 "nbformat": 4,
 "nbformat_minor": 5
}
