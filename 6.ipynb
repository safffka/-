{
 "cells": [
  {
   "cell_type": "markdown",
   "id": "20d7f894-bd20-48ed-9922-b52c50eafc9f",
   "metadata": {
    "tags": []
   },
   "source": [
    "h0-не зависит\n",
    "h1-зависит"
   ]
  },
  {
   "cell_type": "code",
   "execution_count": 3,
   "id": "6e0c862d-4adc-4153-a262-c82c1890a146",
   "metadata": {
    "tags": []
   },
   "outputs": [
    {
     "name": "stdout",
     "output_type": "stream",
     "text": [
      "Результаты F-теста (ANOVA):\n",
      "F-статистика: 8.905535804977145\n",
      "p-значение: 0.009228599629157293\n",
      "Отвергаем нулевую гипотезу: Существует статистически значимая зависимость между стажем и производительностью труда.\n"
     ]
    }
   ],
   "source": [
    "import scipy.stats as stats\n",
    "\n",
    "# Данные о производительности труда в разных категориях стажа\n",
    "stazh_do_10_let = [135, 156, 165]\n",
    "stazh_10_15_let = [176, 196, 204]\n",
    "stazh_15_25_let = [155, 160, 149, 171, 140]\n",
    "\n",
    "# Выполним однофакторный ANOVA (F-тест)\n",
    "f_statistic, p_value = stats.f_oneway(stazh_do_10_let, stazh_10_15_let, stazh_15_25_let)\n",
    "\n",
    "# Выведем результаты\n",
    "print(\"Результаты F-теста (ANOVA):\")\n",
    "print(f\"F-статистика: {f_statistic}\")\n",
    "print(f\"p-значение: {p_value}\")\n",
    "\n",
    "# Выберем уровень значимости (alpha)\n",
    "alpha = 0.05\n",
    "\n",
    "# Проверим гипотезу и сделаем вывод\n",
    "if p_value < alpha:\n",
    "    print(\"Отвергаем нулевую гипотезу: Существует статистически значимая зависимость между стажем и производительностью труда.\")\n",
    "else:\n",
    "    print(\"Не отвергаем нулевую гипотезу: Нет статистически значимой зависимости между стажем и производительностью труда.\")\n"
   ]
  },
  {
   "cell_type": "code",
   "execution_count": null,
   "id": "150014e3-df57-4a74-9c02-a5e396124430",
   "metadata": {},
   "outputs": [],
   "source": []
  }
 ],
 "metadata": {
  "kernelspec": {
   "display_name": "Python 3 (ipykernel)",
   "language": "python",
   "name": "python3"
  },
  "language_info": {
   "codemirror_mode": {
    "name": "ipython",
    "version": 3
   },
   "file_extension": ".py",
   "mimetype": "text/x-python",
   "name": "python",
   "nbconvert_exporter": "python",
   "pygments_lexer": "ipython3",
   "version": "3.11.2"
  }
 },
 "nbformat": 4,
 "nbformat_minor": 5
}
