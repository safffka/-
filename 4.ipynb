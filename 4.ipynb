{
 "cells": [
  {
   "cell_type": "code",
   "execution_count": 1,
   "id": "e5fe8fa6-aa12-439e-94eb-7523a7c10364",
   "metadata": {
    "tags": []
   },
   "outputs": [
    {
     "name": "stdout",
     "output_type": "stream",
     "text": [
      "   Масса, кг  До диеты  После диеты\n",
      "0          1        68           60\n",
      "1          2        80           84\n",
      "2          3        92           87\n",
      "3          4        81           79\n",
      "4          5        70           74\n",
      "5          6        79           71\n",
      "6          7        78           72\n",
      "7          8        68           67\n",
      "8          9        57           57\n",
      "9         10        76           60\n"
     ]
    }
   ],
   "source": [
    "import pandas as pd\n",
    "\n",
    "# Create a dictionary with your data\n",
    "data = {\n",
    "    'Масса, кг': [1, 2, 3, 4, 5, 6, 7, 8, 9, 10],\n",
    "    'До диеты': [68, 80, 92, 81, 70, 79, 78, 68, 57, 76],\n",
    "    'После диеты': [60, 84, 87, 79, 74, 71, 72, 67, 57, 60]\n",
    "}\n",
    "\n",
    "# Create a DataFrame from the dictionary\n",
    "df = pd.DataFrame(data)\n",
    "\n",
    "# Print the DataFrame\n",
    "print(df)\n"
   ]
  },
  {
   "cell_type": "code",
   "execution_count": 3,
   "id": "08241522-2ae4-4089-aeff-8f86c96c570b",
   "metadata": {
    "tags": []
   },
   "outputs": [
    {
     "name": "stdout",
     "output_type": "stream",
     "text": [
      "Результаты парного t-теста:\n",
      "t-статистика: 1.9620209138413154\n",
      "p-значение: 0.0813796190219635\n",
      "Не отвергаем нулевую гипотезу: Нет статистически значимой разницы в весе до и после диеты.\n"
     ]
    }
   ],
   "source": [
    "import scipy.stats as stats\n",
    "\n",
    "# Определите ваши данные\n",
    "before_diet = [68, 80, 92, 81, 70, 79, 78, 68, 57, 76]  # Вес до диеты\n",
    "after_diet = [60, 84, 87, 79, 74, 71, 72, 67, 57, 60]   # Вес после диеты\n",
    "\n",
    "# Выполните парный t-тест\n",
    "t_statistic, p_value = stats.ttest_rel(before_diet, after_diet)\n",
    "\n",
    "# Выведите результаты парного t-теста\n",
    "print(\"Результаты парного t-теста:\")\n",
    "print(f\"t-статистика: {t_statistic}\")\n",
    "print(f\"p-значение: {p_value}\")\n",
    "\n",
    "# Проверьте, является ли результат статистически значимым на уровне значимости alpha = 0.05\n",
    "alpha = 0.05\n",
    "if p_value < alpha:\n",
    "    print(\"Отвергаем нулевую гипотезу: Существует статистически значимая разница в весе до и после диеты.\")\n",
    "else:\n",
    "    print(\"Не отвергаем нулевую гипотезу: Нет статистически значимой разницы в весе до и после диеты.\")\n"
   ]
  },
  {
   "cell_type": "code",
   "execution_count": null,
   "id": "ad1e0b73-7326-465c-8381-22bc31cae917",
   "metadata": {},
   "outputs": [],
   "source": []
  }
 ],
 "metadata": {
  "kernelspec": {
   "display_name": "Python 3 (ipykernel)",
   "language": "python",
   "name": "python3"
  },
  "language_info": {
   "codemirror_mode": {
    "name": "ipython",
    "version": 3
   },
   "file_extension": ".py",
   "mimetype": "text/x-python",
   "name": "python",
   "nbconvert_exporter": "python",
   "pygments_lexer": "ipython3",
   "version": "3.11.2"
  }
 },
 "nbformat": 4,
 "nbformat_minor": 5
}
